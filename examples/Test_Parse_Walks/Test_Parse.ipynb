{
 "cells": [
  {
   "cell_type": "markdown",
   "metadata": {},
   "source": [
    "### Testing walks-policy all vs mask"
   ]
  },
  {
   "cell_type": "code",
   "execution_count": null,
   "metadata": {},
   "outputs": [],
   "source": [
    "# Running standard walks-policy mask (WW for complex walks)\n",
    "!pairtools parse \\\n",
    "  /home/agalicina/tmp/pairtools_parse_update/data/arima3_link2019/C57_BMDM_HiC.lane1.mm10.sample1mln.bam \\\n",
    "  -c /home/agalicina/GENOMES/distiller_mm10_kit/mm10.reduced.chrom.sizes \\\n",
    "  -o ./arima_1mln_test_mask.pairsam \\\n",
    "  --assembly mm10 \\\n",
    "  --min-mapq 1 \\\n",
    "  --max-molecule-size 500 \\\n",
    "  --drop-seq --drop-sam \\\n",
    "  --add-columns pos3,pos5,read_len \\\n",
    "  --max-inter-align-gap 20 \\\n",
    "  --no-flip \\\n",
    "  --walks-policy mask"
   ]
  },
  {
   "cell_type": "code",
   "execution_count": null,
   "metadata": {},
   "outputs": [],
   "source": [
    "# Running walks-policy all\n",
    "!pairtools parse \\\n",
    "  /home/agalicina/tmp/pairtools_parse_update/data/arima3_link2019/C57_BMDM_HiC.lane1.mm10.sample1mln.bam \\\n",
    "  -c /home/agalicina/GENOMES/distiller_mm10_kit/mm10.reduced.chrom.sizes \\\n",
    "  -o ./arima_1mln_test_all.pairsam \\\n",
    "  --assembly mm10 \\\n",
    "  --min-mapq 1 \\\n",
    "  --max-molecule-size 500 \\\n",
    "  --drop-seq --drop-sam \\\n",
    "  --add-columns pos3,pos5,read_len \\\n",
    "  --max-inter-align-gap 20 \\\n",
    "  --no-flip \\\n",
    "  --walks-policy all"
   ]
  },
  {
   "cell_type": "markdown",
   "metadata": {},
   "source": [
    "Reading and comparing the parsed pair-files:"
   ]
  },
  {
   "cell_type": "code",
   "execution_count": 10,
   "metadata": {},
   "outputs": [],
   "source": [
    "import pandas as pd"
   ]
  },
  {
   "cell_type": "code",
   "execution_count": 12,
   "metadata": {},
   "outputs": [],
   "source": [
    "# Reading the masked file\n",
    "df_masked = pd.read_csv('./arima_1mln_test_mask.pairsam', sep='\\t', comment='#', header=None)\n",
    "df_masked.columns = 'readID chrom1 pos1 chrom2 pos2 strand1 strand2 pair_type pos51 pos52 pos31 pos32 read_len1 read_len2'.split()"
   ]
  },
  {
   "cell_type": "code",
   "execution_count": 13,
   "metadata": {},
   "outputs": [],
   "source": [
    "# Reading the file with all rescued chimeras\n",
    "df_all = pd.read_csv('./arima_1mln_test_all.pairsam', sep='\\t', comment='#', header=None)\n",
    "df_all.columns = 'readID chrom1 pos1 chrom2 pos2 strand1 strand2 pair_type pos51 pos52 pos31 pos32 read_len1 read_len2'.split()"
   ]
  },
  {
   "cell_type": "code",
   "execution_count": 24,
   "metadata": {},
   "outputs": [],
   "source": [
    "ww_ids = df_masked.query('pair_type==\"WW\"')['readID'].values\n",
    "df_rescued = df_all.set_index('readID').loc[ww_ids,:].reset_index()\n",
    "df_rescued_valid = df_rescued.query('pair_type in [\"PP\", \"JJ\"]')"
   ]
  },
  {
   "cell_type": "code",
   "execution_count": 42,
   "metadata": {},
   "outputs": [
    {
     "data": {
      "text/plain": [
       "(71543, 7.1539923783277315)"
      ]
     },
     "execution_count": 42,
     "metadata": {},
     "output_type": "execute_result"
    }
   ],
   "source": [
    "# Number of WW in the initial dataset, percentage out of initial pairsam file\n",
    "len(ww_ids), 100*len(ww_ids)/len(df_masked)"
   ]
  },
  {
   "cell_type": "code",
   "execution_count": 34,
   "metadata": {},
   "outputs": [
    {
     "data": {
      "text/html": [
       "<div>\n",
       "<style scoped>\n",
       "    .dataframe tbody tr th:only-of-type {\n",
       "        vertical-align: middle;\n",
       "    }\n",
       "\n",
       "    .dataframe tbody tr th {\n",
       "        vertical-align: top;\n",
       "    }\n",
       "\n",
       "    .dataframe thead th {\n",
       "        text-align: right;\n",
       "    }\n",
       "</style>\n",
       "<table border=\"1\" class=\"dataframe\">\n",
       "  <thead>\n",
       "    <tr style=\"text-align: right;\">\n",
       "      <th></th>\n",
       "      <th>readID</th>\n",
       "      <th>chrom1</th>\n",
       "      <th>pos1</th>\n",
       "      <th>chrom2</th>\n",
       "      <th>pos2</th>\n",
       "      <th>strand1</th>\n",
       "      <th>strand2</th>\n",
       "      <th>pair_type</th>\n",
       "      <th>pos51</th>\n",
       "      <th>pos52</th>\n",
       "      <th>pos31</th>\n",
       "      <th>pos32</th>\n",
       "      <th>read_len1</th>\n",
       "      <th>read_len2</th>\n",
       "    </tr>\n",
       "  </thead>\n",
       "  <tbody>\n",
       "    <tr>\n",
       "      <th>0</th>\n",
       "      <td>SRR6660238.10</td>\n",
       "      <td>chr3</td>\n",
       "      <td>96261298</td>\n",
       "      <td>chr3</td>\n",
       "      <td>96251347</td>\n",
       "      <td>+</td>\n",
       "      <td>+</td>\n",
       "      <td>PP</td>\n",
       "      <td>96261342</td>\n",
       "      <td>96251447</td>\n",
       "      <td>96261298</td>\n",
       "      <td>96251347</td>\n",
       "      <td>100</td>\n",
       "      <td>101</td>\n",
       "    </tr>\n",
       "    <tr>\n",
       "      <th>1</th>\n",
       "      <td>SRR6660238.10</td>\n",
       "      <td>chr3</td>\n",
       "      <td>96586745</td>\n",
       "      <td>chr3</td>\n",
       "      <td>96261298</td>\n",
       "      <td>+</td>\n",
       "      <td>+</td>\n",
       "      <td>JJ</td>\n",
       "      <td>96586799</td>\n",
       "      <td>96261342</td>\n",
       "      <td>96586745</td>\n",
       "      <td>96261298</td>\n",
       "      <td>100</td>\n",
       "      <td>100</td>\n",
       "    </tr>\n",
       "    <tr>\n",
       "      <th>2</th>\n",
       "      <td>SRR6660238.23</td>\n",
       "      <td>chr9</td>\n",
       "      <td>71972700</td>\n",
       "      <td>chr10</td>\n",
       "      <td>91862052</td>\n",
       "      <td>+</td>\n",
       "      <td>-</td>\n",
       "      <td>PP</td>\n",
       "      <td>71972733</td>\n",
       "      <td>91861952</td>\n",
       "      <td>71972700</td>\n",
       "      <td>91862052</td>\n",
       "      <td>101</td>\n",
       "      <td>101</td>\n",
       "    </tr>\n",
       "    <tr>\n",
       "      <th>3</th>\n",
       "      <td>SRR6660238.23</td>\n",
       "      <td>chr10</td>\n",
       "      <td>74605170</td>\n",
       "      <td>chr9</td>\n",
       "      <td>71972700</td>\n",
       "      <td>-</td>\n",
       "      <td>+</td>\n",
       "      <td>JJ</td>\n",
       "      <td>74605104</td>\n",
       "      <td>71972733</td>\n",
       "      <td>74605170</td>\n",
       "      <td>71972700</td>\n",
       "      <td>101</td>\n",
       "      <td>101</td>\n",
       "    </tr>\n",
       "    <tr>\n",
       "      <th>4</th>\n",
       "      <td>SRR6660238.59</td>\n",
       "      <td>chr17</td>\n",
       "      <td>60390189</td>\n",
       "      <td>!</td>\n",
       "      <td>0</td>\n",
       "      <td>-</td>\n",
       "      <td>-</td>\n",
       "      <td>PM</td>\n",
       "      <td>60390089</td>\n",
       "      <td>0</td>\n",
       "      <td>60390189</td>\n",
       "      <td>0</td>\n",
       "      <td>101</td>\n",
       "      <td>101</td>\n",
       "    </tr>\n",
       "  </tbody>\n",
       "</table>\n",
       "</div>"
      ],
      "text/plain": [
       "          readID chrom1      pos1 chrom2      pos2 strand1 strand2 pair_type  \\\n",
       "0  SRR6660238.10   chr3  96261298   chr3  96251347       +       +        PP   \n",
       "1  SRR6660238.10   chr3  96586745   chr3  96261298       +       +        JJ   \n",
       "2  SRR6660238.23   chr9  71972700  chr10  91862052       +       -        PP   \n",
       "3  SRR6660238.23  chr10  74605170   chr9  71972700       -       +        JJ   \n",
       "4  SRR6660238.59  chr17  60390189      !         0       -       -        PM   \n",
       "\n",
       "      pos51     pos52     pos31     pos32  read_len1  read_len2  \n",
       "0  96261342  96251447  96261298  96251347        100        101  \n",
       "1  96586799  96261342  96586745  96261298        100        100  \n",
       "2  71972733  91861952  71972700  91862052        101        101  \n",
       "3  74605104  71972733  74605170  71972700        101        101  \n",
       "4  60390089         0  60390189         0        101        101  "
      ]
     },
     "execution_count": 34,
     "metadata": {},
     "output_type": "execute_result"
    }
   ],
   "source": [
    "df_rescued[:5]"
   ]
  },
  {
   "cell_type": "code",
   "execution_count": 43,
   "metadata": {},
   "outputs": [
    {
     "data": {
      "text/plain": [
       "(46094, 4.6092018043224146)"
      ]
     },
     "execution_count": 43,
     "metadata": {},
     "output_type": "execute_result"
    }
   ],
   "source": [
    "# Number of pairs retrieved from all WW, percentage out of initial pairsam file\n",
    "len(df_rescued_valid), 100*len(df_rescued_valid)/len(df_masked)"
   ]
  },
  {
   "cell_type": "code",
   "execution_count": 44,
   "metadata": {},
   "outputs": [
    {
     "data": {
      "text/plain": [
       "(28450, 39.766294396377006, 2.844877670260179)"
      ]
     },
     "execution_count": 44,
     "metadata": {},
     "output_type": "execute_result"
    }
   ],
   "source": [
    "# Number of reads rescued with rescue_complex_walk \n",
    "# (Note the difference from number of pairs)\n",
    "# percentage out of all WW, percentage out of initial pairsam file\n",
    "\n",
    "len(np.unique(df_rescued_valid.readID)), \\\n",
    "100*len(np.unique(df_rescued_valid.readID))/len(ww_ids), \\\n",
    "100*len(np.unique(df_rescued_valid.readID))/len(df_masked)"
   ]
  },
  {
   "cell_type": "markdown",
   "metadata": {},
   "source": [
    "### Dependence on MAPQ: setting MAPQ>=30 reduces the number of rescuable pairs"
   ]
  },
  {
   "cell_type": "code",
   "execution_count": 50,
   "metadata": {},
   "outputs": [],
   "source": [
    "# Running standard walks-policy mask (WW for complex walks)\n",
    "!pairtools parse \\\n",
    "  /home/agalicina/tmp/pairtools_parse_update/data/arima3_link2019/C57_BMDM_HiC.lane1.mm10.sample1mln.bam \\\n",
    "  -c /home/agalicina/GENOMES/distiller_mm10_kit/mm10.reduced.chrom.sizes \\\n",
    "  -o ./arima_1mln_test_mask_MAPQ30.pairsam \\\n",
    "  --assembly mm10 \\\n",
    "  --min-mapq 30 \\\n",
    "  --max-molecule-size 500 \\\n",
    "  --drop-seq --drop-sam \\\n",
    "  --add-columns pos3,pos5,read_len \\\n",
    "  --max-inter-align-gap 20 \\\n",
    "  --no-flip \\\n",
    "  --walks-policy mask"
   ]
  },
  {
   "cell_type": "code",
   "execution_count": 49,
   "metadata": {},
   "outputs": [],
   "source": [
    "# Running walks-policy all\n",
    "!pairtools parse \\\n",
    "  /home/agalicina/tmp/pairtools_parse_update/data/arima3_link2019/C57_BMDM_HiC.lane1.mm10.sample1mln.bam \\\n",
    "  -c /home/agalicina/GENOMES/distiller_mm10_kit/mm10.reduced.chrom.sizes \\\n",
    "  -o ./arima_1mln_test_all_MAPQ30.pairsam \\\n",
    "  --assembly mm10 \\\n",
    "  --min-mapq 30 \\\n",
    "  --max-molecule-size 500 \\\n",
    "  --drop-seq --drop-sam \\\n",
    "  --add-columns pos3,pos5,read_len \\\n",
    "  --max-inter-align-gap 20 \\\n",
    "  --no-flip \\\n",
    "  --walks-policy all"
   ]
  },
  {
   "cell_type": "markdown",
   "metadata": {},
   "source": [
    "Reading and comparing the parsed pair-files:"
   ]
  },
  {
   "cell_type": "code",
   "execution_count": 51,
   "metadata": {},
   "outputs": [],
   "source": [
    "# Reading the masked file\n",
    "df_masked = pd.read_csv('./arima_1mln_test_mask_MAPQ30.pairsam', sep='\\t', comment='#', header=None)\n",
    "df_masked.columns = 'readID chrom1 pos1 chrom2 pos2 strand1 strand2 pair_type pos51 pos52 pos31 pos32 read_len1 read_len2'.split()"
   ]
  },
  {
   "cell_type": "code",
   "execution_count": 52,
   "metadata": {},
   "outputs": [],
   "source": [
    "# Reading the file with all rescued chimeras\n",
    "df_all = pd.read_csv('./arima_1mln_test_all_MAPQ30.pairsam', sep='\\t', comment='#', header=None)\n",
    "df_all.columns = 'readID chrom1 pos1 chrom2 pos2 strand1 strand2 pair_type pos51 pos52 pos31 pos32 read_len1 read_len2'.split()"
   ]
  },
  {
   "cell_type": "code",
   "execution_count": 53,
   "metadata": {},
   "outputs": [],
   "source": [
    "ww_ids = df_masked.query('pair_type==\"WW\"')['readID'].values\n",
    "df_rescued = df_all.set_index('readID').loc[ww_ids,:].reset_index()\n",
    "df_rescued_valid = df_rescued.query('pair_type in [\"PP\", \"JJ\"]')"
   ]
  },
  {
   "cell_type": "code",
   "execution_count": 54,
   "metadata": {},
   "outputs": [
    {
     "data": {
      "text/plain": [
       "(85074, 8.507034197529507)"
      ]
     },
     "execution_count": 54,
     "metadata": {},
     "output_type": "execute_result"
    }
   ],
   "source": [
    "# Number of WW in the initial dataset, percentage out of initial pairsam file\n",
    "len(ww_ids), 100*len(ww_ids)/len(df_masked)"
   ]
  },
  {
   "cell_type": "code",
   "execution_count": 56,
   "metadata": {},
   "outputs": [
    {
     "data": {
      "text/plain": [
       "(38971, 3.896932431905428)"
      ]
     },
     "execution_count": 56,
     "metadata": {},
     "output_type": "execute_result"
    }
   ],
   "source": [
    "# Number of pairs retrieved from all WW, percentage out of initial pairsam file\n",
    "len(df_rescued_valid), 100*len(df_rescued_valid)/len(df_masked)"
   ]
  },
  {
   "cell_type": "code",
   "execution_count": 57,
   "metadata": {},
   "outputs": [
    {
     "data": {
      "text/plain": [
       "(25033, 29.42497120154219, 2.5031923627284027)"
      ]
     },
     "execution_count": 57,
     "metadata": {},
     "output_type": "execute_result"
    }
   ],
   "source": [
    "# Number of reads rescued with rescue_complex_walk \n",
    "# (Note the difference from number of pairs)\n",
    "# percentage out of all WW, percentage out of initial pairsam file\n",
    "\n",
    "len(np.unique(df_rescued_valid.readID)), \\\n",
    "100*len(np.unique(df_rescued_valid.readID))/len(ww_ids), \\\n",
    "100*len(np.unique(df_rescued_valid.readID))/len(df_masked)"
   ]
  },
  {
   "cell_type": "markdown",
   "metadata": {},
   "source": [
    "### Dependence on MAPQ: setting MAPQ>=0 rescues nearly everything"
   ]
  },
  {
   "cell_type": "code",
   "execution_count": 58,
   "metadata": {},
   "outputs": [],
   "source": [
    "# Running standard walks-policy mask (WW for complex walks)\n",
    "!pairtools parse \\\n",
    "  /home/agalicina/tmp/pairtools_parse_update/data/arima3_link2019/C57_BMDM_HiC.lane1.mm10.sample1mln.bam \\\n",
    "  -c /home/agalicina/GENOMES/distiller_mm10_kit/mm10.reduced.chrom.sizes \\\n",
    "  -o ./arima_1mln_test_mask_MAPQ0.pairsam \\\n",
    "  --assembly mm10 \\\n",
    "  --min-mapq 0 \\\n",
    "  --max-molecule-size 500 \\\n",
    "  --drop-seq --drop-sam \\\n",
    "  --add-columns pos3,pos5,read_len \\\n",
    "  --max-inter-align-gap 20 \\\n",
    "  --no-flip \\\n",
    "  --walks-policy mask"
   ]
  },
  {
   "cell_type": "code",
   "execution_count": 66,
   "metadata": {},
   "outputs": [],
   "source": [
    "# Running walks-policy all\n",
    "!pairtools parse \\\n",
    "  /home/agalicina/tmp/pairtools_parse_update/data/arima3_link2019/C57_BMDM_HiC.lane1.mm10.sample1mln.bam \\\n",
    "  -c /home/agalicina/GENOMES/distiller_mm10_kit/mm10.reduced.chrom.sizes \\\n",
    "  -o ./arima_1mln_test_all_MAPQ0.pairsam \\\n",
    "  --assembly mm10 \\\n",
    "  --min-mapq 0 \\\n",
    "  --max-molecule-size 500 \\\n",
    "  --drop-seq --drop-sam \\\n",
    "  --add-columns pos3,pos5,read_len \\\n",
    "  --max-inter-align-gap 20 \\\n",
    "  --no-flip \\\n",
    "  --walks-policy all"
   ]
  },
  {
   "cell_type": "markdown",
   "metadata": {},
   "source": [
    "Reading and comparing the parsed pair-files:"
   ]
  },
  {
   "cell_type": "code",
   "execution_count": 67,
   "metadata": {},
   "outputs": [],
   "source": [
    "# Reading the masked file\n",
    "df_masked = pd.read_csv('./arima_1mln_test_mask_MAPQ0.pairsam', sep='\\t', comment='#', header=None)\n",
    "df_masked.columns = 'readID chrom1 pos1 chrom2 pos2 strand1 strand2 pair_type pos51 pos52 pos31 pos32 read_len1 read_len2'.split()"
   ]
  },
  {
   "cell_type": "code",
   "execution_count": 68,
   "metadata": {},
   "outputs": [],
   "source": [
    "# Reading the file with all rescued chimeras\n",
    "df_all = pd.read_csv('./arima_1mln_test_all_MAPQ0.pairsam', sep='\\t', comment='#', header=None)\n",
    "df_all.columns = 'readID chrom1 pos1 chrom2 pos2 strand1 strand2 pair_type pos51 pos52 pos31 pos32 read_len1 read_len2'.split()"
   ]
  },
  {
   "cell_type": "code",
   "execution_count": 69,
   "metadata": {},
   "outputs": [],
   "source": [
    "ww_ids = df_masked.query('pair_type==\"WW\"')['readID'].values\n",
    "df_rescued = df_all.set_index('readID').loc[ww_ids,:].reset_index()\n",
    "df_rescued_valid = df_rescued.query('pair_type in [\"PP\", \"JJ\"]')"
   ]
  },
  {
   "cell_type": "code",
   "execution_count": 70,
   "metadata": {},
   "outputs": [
    {
     "data": {
      "text/plain": [
       "(73992, 7.398881848080532)"
      ]
     },
     "execution_count": 70,
     "metadata": {},
     "output_type": "execute_result"
    }
   ],
   "source": [
    "# Number of WW in the initial dataset, percentage out of initial pairsam file\n",
    "len(ww_ids), 100*len(ww_ids)/len(df_masked)"
   ]
  },
  {
   "cell_type": "code",
   "execution_count": 71,
   "metadata": {},
   "outputs": [
    {
     "data": {
      "text/plain": [
       "(142032, 14.202589288660588)"
      ]
     },
     "execution_count": 71,
     "metadata": {},
     "output_type": "execute_result"
    }
   ],
   "source": [
    "# Number of pairs retrieved from all WW, percentage out of initial pairsam file\n",
    "len(df_rescued_valid), 100*len(df_rescued_valid)/len(df_masked)"
   ]
  },
  {
   "cell_type": "code",
   "execution_count": 72,
   "metadata": {},
   "outputs": [
    {
     "data": {
      "text/plain": [
       "(73495, 99.32830576278516, 7.349183985088641)"
      ]
     },
     "execution_count": 72,
     "metadata": {},
     "output_type": "execute_result"
    }
   ],
   "source": [
    "# Number of reads rescued with rescue_complex_walk \n",
    "# (Note the difference from number of pairs)\n",
    "# percentage out of all WW, percentage out of initial pairsam file\n",
    "\n",
    "len(np.unique(df_rescued_valid.readID)), \\\n",
    "100*len(np.unique(df_rescued_valid.readID))/len(ww_ids), \\\n",
    "100*len(np.unique(df_rescued_valid.readID))/len(df_masked)"
   ]
  }
 ],
 "metadata": {
  "kernelspec": {
   "display_name": "pairtools",
   "language": "python",
   "name": "pairtools"
  },
  "language_info": {
   "codemirror_mode": {
    "name": "ipython",
    "version": 3
   },
   "file_extension": ".py",
   "mimetype": "text/x-python",
   "name": "python",
   "nbconvert_exporter": "python",
   "pygments_lexer": "ipython3",
   "version": "3.7.8"
  }
 },
 "nbformat": 4,
 "nbformat_minor": 2
}
